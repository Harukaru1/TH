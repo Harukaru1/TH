{
 "cells": [
  {
   "attachments": {},
   "cell_type": "markdown",
   "metadata": {},
   "source": [
    "III. Text Similarity\n",
    "1. Similarity metrics"
   ]
  },
  {
   "cell_type": "code",
   "execution_count": 25,
   "metadata": {},
   "outputs": [],
   "source": [
    "import nltk\n",
    "import numpy as np\n",
    "import pandas as pd"
   ]
  },
  {
   "cell_type": "code",
   "execution_count": 26,
   "metadata": {},
   "outputs": [],
   "source": [
    "A = \"Outside the classroom, Stallman pursued his studies with even more diligence, rushing off to fulfill his laboratory-assistant duties at Rockefeller University during the week and dodging the Vietnam protesters on his way to Saturday school at Columbia. It was there, while the rest of the Science Honors Program students sat around discussing their college choices, that Stallman finally took a moment to participate in the preclass bull session.\"\n",
    "B = \"To facilitate the process, AI Lab hackers had built a system that displayed both the source and display modes on a split screen. Despite this innovative hack, switching from mode to mode was still a nuisance.\"\n",
    "C = \"With no dorm and no dancing, Stallman's social universe imploded. Like an astronaut experiencing the aftereffects of zero-gravity, Stallman found that his ability to interact with nonhackers, especially female nonhackers, had atrophied significantly. After 16 weeks in the AI Lab, the self confidence he'd been quietly accumulating during his 4 years at Harvard was virtually gone.\""
   ]
  },
  {
   "cell_type": "code",
   "execution_count": 27,
   "metadata": {},
   "outputs": [
    {
     "name": "stdout",
     "output_type": "stream",
     "text": [
      "Jaccard Similarity between A and B: 0.08641975308641975\n",
      "Jaccard Similarity between A and C: 0.12631578947368421\n",
      "Jaccard Similarity between B and C: 0.0945945945945946\n"
     ]
    }
   ],
   "source": [
    "set_A = set(A.lower().split())\n",
    "set_B = set(B.lower().split())\n",
    "set_C = set(C.lower().split())\n",
    "\n",
    "inter_AB = len(set_A.intersection(set_B))\n",
    "union_AB = len(set_A.union(set_B))\n",
    "\n",
    "inter_AC = len(set_A.intersection(set_C))\n",
    "union_AC = len(set_A.union(set_C))\n",
    "\n",
    "inter_BC = len(set_B.intersection(set_C))\n",
    "union_BC = len(set_B.union(set_C))\n",
    "\n",
    "jacc_AB = inter_AB / union_AB\n",
    "jacc_AC = inter_AC / union_AC\n",
    "jacc_BC = inter_BC / union_BC\n",
    "\n",
    "print(\"Jaccard Similarity between A and B:\", jacc_AB)\n",
    "print(\"Jaccard Similarity between A and C:\", jacc_AC)\n",
    "print(\"Jaccard Similarity between B and C:\", jacc_BC)\n",
    "\n"
   ]
  },
  {
   "cell_type": "code",
   "execution_count": 28,
   "metadata": {},
   "outputs": [
    {
     "name": "stdout",
     "output_type": "stream",
     "text": [
      "cos(A, B): [[0.1679327]]\n",
      "cos(B, C): [[0.13618963]]\n",
      "cos(A, C): [[0.2850296]]\n"
     ]
    }
   ],
   "source": [
    "from sklearn.feature_extraction.text import TfidfVectorizer\n",
    "from sklearn.metrics.pairwise import cosine_similarity\n",
    "\n",
    "vectorizer = TfidfVectorizer()\n",
    "\n",
    "tfidf = vectorizer.fit_transform([A, B, C])\n",
    "\n",
    "cosine_sim_AB = cosine_similarity(tfidf[0], tfidf[1])\n",
    "cosine_sim_BC = cosine_similarity(tfidf[1], tfidf[2])\n",
    "cosine_sim_AC = cosine_similarity(tfidf[0], tfidf[2])\n",
    "\n",
    "print(\"cos(A, B):\", cosine_sim_AB)\n",
    "print(\"cos(B, C):\", cosine_sim_BC)\n",
    "print(\"cos(A, C):\", cosine_sim_AC)"
   ]
  },
  {
   "attachments": {},
   "cell_type": "markdown",
   "metadata": {},
   "source": [
    "2. TF-IDF"
   ]
  },
  {
   "cell_type": "code",
   "execution_count": 29,
   "metadata": {},
   "outputs": [],
   "source": [
    "df = pd.read_csv(\"headlines.csv\")"
   ]
  },
  {
   "cell_type": "code",
   "execution_count": 30,
   "metadata": {},
   "outputs": [
    {
     "name": "stdout",
     "output_type": "stream",
     "text": [
      "<class 'pandas.core.frame.DataFrame'>\n",
      "RangeIndex: 1999 entries, 0 to 1998\n",
      "Data columns (total 2 columns):\n",
      " #   Column         Non-Null Count  Dtype \n",
      "---  ------         --------------  ----- \n",
      " 0   publish_date   1999 non-null   int64 \n",
      " 1   headline_text  1999 non-null   object\n",
      "dtypes: int64(1), object(1)\n",
      "memory usage: 31.4+ KB\n"
     ]
    }
   ],
   "source": [
    "df.info()"
   ]
  },
  {
   "cell_type": "code",
   "execution_count": 31,
   "metadata": {},
   "outputs": [
    {
     "data": {
      "text/html": [
       "<div>\n",
       "<style scoped>\n",
       "    .dataframe tbody tr th:only-of-type {\n",
       "        vertical-align: middle;\n",
       "    }\n",
       "\n",
       "    .dataframe tbody tr th {\n",
       "        vertical-align: top;\n",
       "    }\n",
       "\n",
       "    .dataframe thead th {\n",
       "        text-align: right;\n",
       "    }\n",
       "</style>\n",
       "<table border=\"1\" class=\"dataframe\">\n",
       "  <thead>\n",
       "    <tr style=\"text-align: right;\">\n",
       "      <th></th>\n",
       "      <th>publish_date</th>\n",
       "      <th>headline_text</th>\n",
       "    </tr>\n",
       "  </thead>\n",
       "  <tbody>\n",
       "    <tr>\n",
       "      <th>0</th>\n",
       "      <td>20170721</td>\n",
       "      <td>algorithms can make decisions on behalf of fed...</td>\n",
       "    </tr>\n",
       "    <tr>\n",
       "      <th>1</th>\n",
       "      <td>20170721</td>\n",
       "      <td>andrew forrests fmg to appeal pilbara native t...</td>\n",
       "    </tr>\n",
       "    <tr>\n",
       "      <th>2</th>\n",
       "      <td>20170721</td>\n",
       "      <td>a rural mural in thallan</td>\n",
       "    </tr>\n",
       "    <tr>\n",
       "      <th>3</th>\n",
       "      <td>20170721</td>\n",
       "      <td>australia church risks becoming haven for abusers</td>\n",
       "    </tr>\n",
       "    <tr>\n",
       "      <th>4</th>\n",
       "      <td>20170721</td>\n",
       "      <td>australian company usgfx embroiled in shanghai...</td>\n",
       "    </tr>\n",
       "  </tbody>\n",
       "</table>\n",
       "</div>"
      ],
      "text/plain": [
       "   publish_date                                      headline_text\n",
       "0      20170721  algorithms can make decisions on behalf of fed...\n",
       "1      20170721  andrew forrests fmg to appeal pilbara native t...\n",
       "2      20170721                           a rural mural in thallan\n",
       "3      20170721  australia church risks becoming haven for abusers\n",
       "4      20170721  australian company usgfx embroiled in shanghai..."
      ]
     },
     "execution_count": 31,
     "metadata": {},
     "output_type": "execute_result"
    }
   ],
   "source": [
    "df.head()"
   ]
  },
  {
   "cell_type": "code",
   "execution_count": 32,
   "metadata": {},
   "outputs": [
    {
     "name": "stderr",
     "output_type": "stream",
     "text": [
      "[nltk_data] Downloading package stopwords to\n",
      "[nltk_data]     C:\\Users\\ThisPc\\AppData\\Roaming\\nltk_data...\n",
      "[nltk_data]   Package stopwords is already up-to-date!\n"
     ]
    }
   ],
   "source": [
    "import nltk\n",
    "nltk.download('stopwords')\n",
    "from nltk.corpus import stopwords\n",
    "from nltk.tokenize import word_tokenize\n",
    "from nltk.stem import PorterStemmer\n",
    "from sklearn.feature_extraction.text import TfidfVectorizer\n",
    "from sklearn.metrics.pairwise import cosine_similarity\n",
    "import string\n",
    "df['tokens'] = df['headline_text'].apply(lambda x: word_tokenize(x))\n",
    "\n",
    "df['tokens'] = df['tokens'].apply(lambda tokens: [token for token in tokens if token not in string.punctuation])\n",
    "\n",
    "stop_words = set(stopwords.words('english'))\n",
    "df['tokens'] = df['tokens'].apply(lambda tokens: [token for token in tokens if token.lower() not in stop_words])\n",
    "\n",
    "stemmer = PorterStemmer()\n",
    "df['tokens'] = df['tokens'].apply(lambda tokens: [stemmer.stem(token) for token in tokens])\n",
    "\n",
    "df['Stem'] = df['tokens'].apply(lambda tokens:' '.join(tokens))"
   ]
  },
  {
   "cell_type": "code",
   "execution_count": 33,
   "metadata": {},
   "outputs": [
    {
     "data": {
      "text/plain": [
       "0         [algorithm, make, decis, behalf, feder, minist]\n",
       "1       [andrew, forrest, fmg, appeal, pilbara, nativ,...\n",
       "2                                 [rural, mural, thallan]\n",
       "3                  [australia, church, risk, becom, abus]\n",
       "4       [australian, compani, usgfx, embroil, shanghai...\n",
       "                              ...                        \n",
       "1994    [constitut, avenu, win, top, prize, act, archi...\n",
       "1995                         [dark, mofo, number, crunch]\n",
       "1996    [david, petraeu, say, australia, must, firm, s...\n",
       "1997    [driverless, car, australia, face, challeng, r...\n",
       "1998               [drug, compani, criticis, price, hike]\n",
       "Name: tokens, Length: 1999, dtype: object"
      ]
     },
     "execution_count": 33,
     "metadata": {},
     "output_type": "execute_result"
    }
   ],
   "source": [
    "df['tokens']"
   ]
  },
  {
   "cell_type": "code",
   "execution_count": 34,
   "metadata": {},
   "outputs": [
    {
     "name": "stdout",
     "output_type": "stream",
     "text": [
      "(1999, 4271)\n"
     ]
    }
   ],
   "source": [
    "from sklearn.feature_extraction.text import CountVectorizer\n",
    "\n",
    "vectorizer = CountVectorizer(analyzer=lambda x: x)\n",
    "\n",
    "vectorizer.fit(df['tokens'])\n",
    "bow = vectorizer.transform(df['tokens'])\n",
    "\n",
    "print(bow.shape)"
   ]
  },
  {
   "cell_type": "code",
   "execution_count": 35,
   "metadata": {},
   "outputs": [
    {
     "name": "stdout",
     "output_type": "stream",
     "text": [
      "[0.3943827  0.         0.         0.         0.         0.\n",
      " 0.         0.         0.         0.         0.         0.\n",
      " 0.24444796 0.12987231 0.10011226 0.21470886 0.40884261 0.29023513\n",
      " 0.12972179 0.23484967 0.34095845 0.         0.15309538 0.18376484\n",
      " 0.32930567 0.08609939 0.08749485 0.         0.         0.16659404\n",
      " 0.18357889 0.17297874 0.         0.         0.         0.\n",
      " 0.         0.        ]\n"
     ]
    }
   ],
   "source": [
    "from sklearn.feature_extraction.text import TfidfVectorizer\n",
    "\n",
    "vectorizer = TfidfVectorizer(analyzer=lambda x: x)\n",
    "\n",
    "vectorizer.fit(df['Stem'])\n",
    "\n",
    "tfidf = vectorizer.transform(df['Stem'])\n",
    "\n",
    "tfidf_array = tfidf.toarray()\n",
    "\n",
    "all_zero = (tfidf_array == 0).all()\n",
    "\n",
    "if not all_zero:\n",
    "    print(tfidf_array[0])"
   ]
  },
  {
   "cell_type": "code",
   "execution_count": 36,
   "metadata": {},
   "outputs": [
    {
     "name": "stdout",
     "output_type": "stream",
     "text": [
      "Word with the highest indices: \n",
      "australia 0.009983014998891405\n",
      "australian 0.00969733014866161\n",
      "new 0.008703107457097207\n",
      "polic 0.0077360592047481126\n",
      "say 0.007540459757782178\n",
      "trump 0.006840891998202155\n",
      "man 0.006548453421337382\n",
      "wa 0.006274671593818188\n",
      "charg 0.006028832916829903\n",
      "sydney 0.0056424159732095394\n",
      "\n",
      "Words with the lowest indices: \n",
      "nmfc 0.0001527054029533165\n",
      "coll 0.0001527054029533165\n",
      "melb 0.0001527054029533165\n",
      "haw 0.0001527054029533165\n",
      "adel 0.0001527054029533165\n",
      "syd 0.0001527054029533165\n",
      "gcfc 0.0001527054029533165\n",
      "gw 0.0001527054029533165\n",
      "geel 0.0001527054029533165\n",
      "fabio 0.0001613676677950104\n"
     ]
    }
   ],
   "source": [
    "vectorizer = TfidfVectorizer(analyzer=lambda x: x)\n",
    "\n",
    "vectorizer.fit(df['tokens'])\n",
    "\n",
    "tfidf = vectorizer.transform(df['tokens'])\n",
    "\n",
    "tfidf_array = tfidf.toarray()\n",
    "\n",
    "average_tfidf = np.mean(tfidf_array, axis = 0)\n",
    "\n",
    "highest_indices = np.argsort(-average_tfidf)[:10]\n",
    "lowest_indices = np.argsort(average_tfidf)[:10]\n",
    "\n",
    "feature_names = vectorizer.get_feature_names_out()\n",
    "\n",
    "print(\"Word with the highest indices: \")\n",
    "for index in highest_indices:\n",
    "    print(feature_names[index], average_tfidf[index])\n",
    "\n",
    "print(\"\\nWords with the lowest indices: \")\n",
    "for index in lowest_indices:\n",
    "    print(feature_names[index], average_tfidf[index])"
   ]
  },
  {
   "cell_type": "code",
   "execution_count": 37,
   "metadata": {},
   "outputs": [],
   "source": [
    "documents = df['tokens'].apply(lambda x: ' '.join(x))\n",
    "vectorizer = TfidfVectorizer()\n",
    "tfidf = vectorizer.fit_transform(documents)"
   ]
  },
  {
   "cell_type": "code",
   "execution_count": 38,
   "metadata": {},
   "outputs": [
    {
     "name": "stdout",
     "output_type": "stream",
     "text": [
      "Words with highest average: \n",
      "australia 0.009983014998891405\n",
      "australian 0.009729510942149733\n",
      "new 0.008703107457097207\n",
      "polic 0.007736059204748111\n",
      "say 0.007555848605072935\n",
      "trump 0.006840891998202155\n",
      "man 0.006548453421337382\n",
      "wa 0.006274671593818188\n",
      "charg 0.006028832916829904\n",
      "sydney 0.005659788840016151\n",
      "Words with lowest average: \n",
      "adel 0.0001527054029533165\n",
      "melb 0.0001527054029533165\n",
      "haw 0.0001527054029533165\n",
      "coll 0.0001527054029533165\n",
      "gw 0.0001527054029533165\n",
      "syd 0.0001527054029533165\n",
      "gcfc 0.0001527054029533165\n",
      "nmfc 0.0001527054029533165\n",
      "geel 0.0001527054029533165\n",
      "fabio 0.00016136766779501044\n"
     ]
    }
   ],
   "source": [
    "average_tfidf = np.mean(tfidf.toarray(), axis=0)\n",
    "\n",
    "highest_indi = np.argsort(-average_tfidf)[:10]\n",
    "lowest_indi = np.argsort(average_tfidf)[:10]\n",
    "\n",
    "feature_names = vectorizer.get_feature_names_out()\n",
    "\n",
    "print(\"Words with highest average: \" )\n",
    "for index in highest_indi:\n",
    "    print(feature_names[index], average_tfidf[index])\n",
    "    \n",
    "print(\"Words with lowest average: \" )\n",
    "for index in lowest_indi:\n",
    "    print(feature_names[index], average_tfidf[index])\n"
   ]
  },
  {
   "cell_type": "code",
   "execution_count": 39,
   "metadata": {},
   "outputs": [],
   "source": [
    "documents = df['tokens'].apply(lambda x: ' '.join(x))\n",
    "\n",
    "vectorizer = TfidfVectorizer()\n",
    "\n",
    "tfidf = vectorizer.fit_transform(documents)"
   ]
  },
  {
   "cell_type": "code",
   "execution_count": 40,
   "metadata": {},
   "outputs": [
    {
     "name": "stdout",
     "output_type": "stream",
     "text": [
      "Word with highest indices: \n",
      "australia 0.009983014998891405\n",
      "australian 0.009729510942149733\n",
      "new 0.008703107457097207\n",
      "polic 0.007736059204748111\n",
      "say 0.007555848605072935\n",
      "trump 0.006840891998202155\n",
      "man 0.006548453421337382\n",
      "wa 0.006274671593818188\n",
      "charg 0.006028832916829904\n",
      "sydney 0.005659788840016151\n",
      "Word with lowest indices: \n",
      "adel 0.0001527054029533165\n",
      "melb 0.0001527054029533165\n",
      "haw 0.0001527054029533165\n",
      "coll 0.0001527054029533165\n",
      "gw 0.0001527054029533165\n",
      "syd 0.0001527054029533165\n",
      "gcfc 0.0001527054029533165\n",
      "nmfc 0.0001527054029533165\n",
      "geel 0.0001527054029533165\n",
      "fabio 0.00016136766779501044\n"
     ]
    }
   ],
   "source": [
    "average_tfidf = np.mean(tfidf.toarray(), axis=0)\n",
    "\n",
    "highest_indices = np.argsort(-average_tfidf)[:10]\n",
    "lowest_indices = np.argsort(average_tfidf)[:10]\n",
    "\n",
    "feature_names = vectorizer.get_feature_names_out()\n",
    "\n",
    "print(\"Word with highest indices: \")\n",
    "for index in highest_indices:\n",
    "    print(feature_names[index], average_tfidf[index])\n",
    "    \n",
    "print(\"Word with lowest indices: \")\n",
    "for index in lowest_indices:\n",
    "    print(feature_names[index], average_tfidf[index])"
   ]
  },
  {
   "attachments": {},
   "cell_type": "markdown",
   "metadata": {},
   "source": [
    "3. Plagiarism checker"
   ]
  },
  {
   "cell_type": "code",
   "execution_count": 41,
   "metadata": {},
   "outputs": [],
   "source": [
    "file = open('A1.txt', 'r') \n",
    "A1 = file.readlines()[0]\n",
    "\n",
    "file = open('Asource.txt', 'r') \n",
    "A0 = file.readlines()[0]\n",
    "\n",
    "file = open('B1.txt', 'r') \n",
    "B1 = file.readlines()[0]\n",
    "\n",
    "file = open('Bsource.txt', 'r') \n",
    "B0 = file.readlines()[0]\n",
    "\n",
    "file = open('C1.txt', 'r') \n",
    "C1 = file.readlines()[0]\n",
    "\n",
    "file = open('Csource.txt', 'r') \n",
    "C0 = file.readlines()[0]\n",
    "\n",
    "file = open('D1.txt', 'r') \n",
    "D1 = file.readlines()[0]\n",
    "\n",
    "file = open('D2.txt', 'r') \n",
    "D2 = file.readlines()[0]\n",
    "\n",
    "file = open('Dsource.txt', 'r') \n",
    "D0 = file.readlines()[0]"
   ]
  },
  {
   "cell_type": "code",
   "execution_count": 42,
   "metadata": {},
   "outputs": [
    {
     "data": {
      "text/plain": [
       "'Descartes has been heralded as the first modern philosopher. He is famous for having made an important connection between geometry and algebra, which allowed for the solving of geometrical problems by way of algebraic equations. He is also famous for having promoted a new conception of matter, which allowed for the accounting of physical phenomena by way of mechanical explanations. However, he is most famous for having written a relatively short work, Meditationes de Prima Philosophia (Meditations On First Philosophy), published in 1641, in which he provides a philosophical groundwork for the possibility of the sciences. (Smith, 2007).\\n'"
      ]
     },
     "execution_count": 42,
     "metadata": {},
     "output_type": "execute_result"
    }
   ],
   "source": [
    "C0"
   ]
  },
  {
   "cell_type": "code",
   "execution_count": 43,
   "metadata": {},
   "outputs": [],
   "source": [
    "alldata = [A0, A1, B0, B1, C0, C1, D0, D1, D2]"
   ]
  },
  {
   "cell_type": "code",
   "execution_count": 44,
   "metadata": {},
   "outputs": [],
   "source": [
    "from sklearn.feature_extraction.text import TfidfVectorizer\n",
    "\n",
    "tfvect = TfidfVectorizer()\n",
    "tfvect.fit(alldata)\n",
    "\n",
    "\n",
    "tfidf = tfvect.fit_transform(alldata).toarray()\n",
    "TFA = tfvect.transform([A0, A1]).toarray()\n",
    "TFB = tfvect.transform([B0, B1]).toarray()\n",
    "TFC = tfvect.transform([C0, C1]).toarray()\n",
    "TFD = tfvect.transform([D0, D1, D2]).toarray()"
   ]
  },
  {
   "cell_type": "code",
   "execution_count": 45,
   "metadata": {},
   "outputs": [],
   "source": [
    "from sklearn.metrics.pairwise import cosine_similarity\n",
    "\n",
    "similarityAA = cosine_similarity(TFA, TFA)\n",
    "\n",
    "similarityBB = cosine_similarity(TFB, TFB)\n",
    "\n",
    "similarityCC = cosine_similarity(TFC, TFC)\n",
    "\n",
    "similarityDD = cosine_similarity(TFD, TFD)\n",
    "\n",
    "similarityAll = cosine_similarity(tfidf, tfidf)"
   ]
  },
  {
   "cell_type": "code",
   "execution_count": 46,
   "metadata": {},
   "outputs": [
    {
     "name": "stdout",
     "output_type": "stream",
     "text": [
      "[[1.         0.81898863]\n",
      " [0.81898863 1.        ]]\n",
      "[[1.         0.63747903]\n",
      " [0.63747903 1.        ]]\n",
      "[[1.         0.85723864]\n",
      " [0.85723864 1.        ]]\n",
      "[[1.         0.91153882 0.45775827]\n",
      " [0.91153882 1.         0.46409641]\n",
      " [0.45775827 0.46409641 1.        ]]\n"
     ]
    }
   ],
   "source": [
    "print(similarityAA)\n",
    "print(similarityBB)\n",
    "print(similarityCC)\n",
    "print(similarityDD)"
   ]
  },
  {
   "cell_type": "code",
   "execution_count": 47,
   "metadata": {},
   "outputs": [
    {
     "data": {
      "text/plain": [
       "array([[1.        , 0.81898863, 0.10748497, 0.12736224, 0.24491604,\n",
       "        0.29501242, 0.2530779 , 0.21594796, 0.18585492],\n",
       "       [0.81898863, 1.        , 0.10940658, 0.12644471, 0.21239125,\n",
       "        0.25583485, 0.214717  , 0.18046478, 0.16807197],\n",
       "       [0.10748497, 0.10940658, 1.        , 0.63747903, 0.08804551,\n",
       "        0.09372089, 0.08509508, 0.07994656, 0.10627147],\n",
       "       [0.12736224, 0.12644471, 0.63747903, 1.        , 0.08730757,\n",
       "        0.08893992, 0.12527568, 0.12146166, 0.12910021],\n",
       "       [0.24491604, 0.21239125, 0.08804551, 0.08730757, 1.        ,\n",
       "        0.85723864, 0.20151171, 0.16298738, 0.14447728],\n",
       "       [0.29501242, 0.25583485, 0.09372089, 0.08893992, 0.85723864,\n",
       "        1.        , 0.22326634, 0.18176114, 0.1558733 ],\n",
       "       [0.2530779 , 0.214717  , 0.08509508, 0.12527568, 0.20151171,\n",
       "        0.22326634, 1.        , 0.91153882, 0.45775827],\n",
       "       [0.21594796, 0.18046478, 0.07994656, 0.12146166, 0.16298738,\n",
       "        0.18176114, 0.91153882, 1.        , 0.46409641],\n",
       "       [0.18585492, 0.16807197, 0.10627147, 0.12910021, 0.14447728,\n",
       "        0.1558733 , 0.45775827, 0.46409641, 1.        ]])"
      ]
     },
     "execution_count": 47,
     "metadata": {},
     "output_type": "execute_result"
    }
   ],
   "source": [
    "similarityAll"
   ]
  },
  {
   "cell_type": "code",
   "execution_count": 53,
   "metadata": {},
   "outputs": [
    {
     "data": {
      "image/png": "[encoded data removed]",
      "text/plain": [
       "<Figure size 800x600 with 2 Axes>"
      ]
     },
     "metadata": {},
     "output_type": "display_data"
    }
   ],
   "source": [
    "import matplotlib.pyplot as plt\n",
    "pred_plagiarism = similarityAll>0.2\n",
    "# Function to plot the pairwise similarity matrix\n",
    "def plot_similarity(similarity_matrix):\n",
    "    plt.figure(figsize=(8, 6))\n",
    "    plt.imshow(similarity_matrix, cmap='hot', interpolation='nearest')\n",
    "    plt.colorbar()\n",
    "    plt.title('Pairwise Similarity')\n",
    "    plt.xlabel('Document Index')\n",
    "    plt.ylabel('Document Index')\n",
    "    plt.show()\n",
    "\n",
    "\n",
    "\n",
    "plot_similarity(similarityAll)"
   ]
  },
  {
   "cell_type": "code",
   "execution_count": 54,
   "metadata": {},
   "outputs": [
    {
     "name": "stdout",
     "output_type": "stream",
     "text": [
      "[[1. 1. 0. 0. 0. 0. 0. 0. 0.]\n",
      " [1. 1. 0. 0. 0. 0. 0. 0. 0.]\n",
      " [0. 0. 1. 1. 0. 0. 0. 0. 0.]\n",
      " [0. 0. 1. 1. 0. 0. 0. 0. 0.]\n",
      " [0. 0. 0. 0. 1. 1. 0. 0. 0.]\n",
      " [0. 0. 0. 0. 1. 1. 0. 0. 0.]\n",
      " [0. 0. 0. 0. 0. 0. 1. 1. 1.]\n",
      " [0. 0. 0. 0. 0. 0. 1. 1. 1.]\n",
      " [0. 0. 0. 0. 0. 0. 1. 1. 1.]]\n"
     ]
    }
   ],
   "source": [
    "import numpy as np\n",
    "\n",
    "real_plagiarism = np.zeros((9, 9))\n",
    "\n",
    "real_plagiarism[0:2, 0:2] = 1  \n",
    "real_plagiarism[2:4, 2:4] = 1 \n",
    "real_plagiarism[4:6, 4:6] = 1 \n",
    "real_plagiarism[6:9, 6:9] = 1  \n",
    "\n",
    "\n",
    "print(real_plagiarism)"
   ]
  },
  {
   "cell_type": "code",
   "execution_count": 55,
   "metadata": {},
   "outputs": [
    {
     "data": {
      "image/png": "[encoded data removed]",
      "text/plain": [
       "<Figure size 640x480 with 1 Axes>"
      ]
     },
     "metadata": {},
     "output_type": "display_data"
    }
   ],
   "source": [
    "import matplotlib.pyplot as plt\n",
    "plt.imshow(real_plagiarism)\n",
    "plt.show()"
   ]
  },
  {
   "cell_type": "code",
   "execution_count": 56,
   "metadata": {},
   "outputs": [
    {
     "name": "stdout",
     "output_type": "stream",
     "text": [
      "Accuracy for All Documents: 0.9506172839506173\n"
     ]
    }
   ],
   "source": [
    "from sklearn.metrics import accuracy_score\n",
    "\n",
    "threshold = 0.5\n",
    "binary_predictions_All = (similarityAll > threshold).astype(int).flatten()\n",
    "\n",
    "true_labels = real_plagiarism.flatten()\n",
    "\n",
    "accuracy_All = accuracy_score(true_labels, binary_predictions_All)\n",
    "\n",
    "print(\"Accuracy for All Documents:\", accuracy_All)"
   ]
  }
 ],
 "metadata": {
  "kernelspec": {
   "display_name": "Python 3",
   "language": "python",
   "name": "python3"
  },
  "language_info": {
   "codemirror_mode": {
    "name": "ipython",
    "version": 3
   },
   "file_extension": ".py",
   "mimetype": "text/x-python",
   "name": "python",
   "nbconvert_exporter": "python",
   "pygments_lexer": "ipython3",
   "version": "3.11.2"
  },
  "orig_nbformat": 4
 },
 "nbformat": 4,
 "nbformat_minor": 2
}
